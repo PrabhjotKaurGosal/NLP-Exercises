{
  "cells": [
    {
      "cell_type": "markdown",
      "source": [
        "# Evaluate Whisper model on a custom dataset for [English transcription, Non-English language detection and transcription and, Any to English translation]"
      ],
      "metadata": {
        "id": "VE2CUXcDAKni"
      }
    },
    {
      "cell_type": "markdown",
      "source": [
        "https://github.com/openai/whisper"
      ],
      "metadata": {
        "id": "CKUCaiDMp6h1"
      }
    },
    {
      "cell_type": "markdown",
      "source": [
        "The dataset contains both speech and no-speech. "
      ],
      "metadata": {
        "id": "HWfLOEA4AXfB"
      }
    },
    {
      "cell_type": "markdown",
      "source": [],
      "metadata": {
        "id": "6mwmVAXNJW8m"
      }
    },
    {
      "cell_type": "markdown",
      "metadata": {
        "id": "4LAdbXyIPau6"
      },
      "source": [
        "# Install and import packages"
      ]
    },
    {
      "cell_type": "code",
      "execution_count": 1,
      "metadata": {
        "colab": {
          "base_uri": "https://localhost:8080/"
        },
        "id": "I6pF_ex-aZ-J",
        "outputId": "324b3801-8fad-4870-97b2-fab21b017c86"
      },
      "outputs": [
        {
          "output_type": "stream",
          "name": "stdout",
          "text": [
            "Looking in indexes: https://pypi.org/simple, https://us-python.pkg.dev/colab-wheels/public/simple/\n",
            "Collecting pyloudnorm\n",
            "  Downloading pyloudnorm-0.1.1-py3-none-any.whl (9.6 kB)\n",
            "Requirement already satisfied: future>=0.16.0 in /usr/local/lib/python3.8/dist-packages (from pyloudnorm) (0.16.0)\n",
            "Requirement already satisfied: numpy>=1.14.2 in /usr/local/lib/python3.8/dist-packages (from pyloudnorm) (1.21.6)\n",
            "Requirement already satisfied: scipy>=1.0.1 in /usr/local/lib/python3.8/dist-packages (from pyloudnorm) (1.7.3)\n",
            "Installing collected packages: pyloudnorm\n",
            "Successfully installed pyloudnorm-0.1.1\n",
            "Looking in indexes: https://pypi.org/simple, https://us-python.pkg.dev/colab-wheels/public/simple/\n",
            "Collecting pydub\n",
            "  Downloading pydub-0.25.1-py2.py3-none-any.whl (32 kB)\n",
            "Installing collected packages: pydub\n",
            "Successfully installed pydub-0.25.1\n"
          ]
        }
      ],
      "source": [
        "!pip install pyloudnorm\n",
        "!pip install pydub"
      ]
    },
    {
      "cell_type": "code",
      "execution_count": 2,
      "metadata": {
        "id": "ZJ2bZsC4Kzoz"
      },
      "outputs": [],
      "source": [
        "import numpy as np\n",
        "import matplotlib.pyplot as plt\n",
        "from matplotlib.backends.backend_agg import FigureCanvasAgg as FigureCanvas\n",
        "%matplotlib inline\n",
        "import librosa.display\n",
        "from IPython.display import Audio\n",
        "import pandas as pd\n",
        "import os\n",
        "import glob\n",
        "\n",
        "# import splitfolders\n",
        "import skimage.io\n",
        "import pydub\n",
        "\n",
        "import librosa as lr\n"
      ]
    },
    {
      "cell_type": "markdown",
      "source": [
        "# Install Whisper"
      ],
      "metadata": {
        "id": "G1qFlmQyecRD"
      }
    },
    {
      "cell_type": "code",
      "source": [
        "! pip install git+https://github.com/openai/whisper.git\n",
        "! pip install jiwer"
      ],
      "metadata": {
        "colab": {
          "base_uri": "https://localhost:8080/"
        },
        "id": "3y24AHL5er7U",
        "outputId": "bdd9c4c8-fcfa-4a8f-8f3c-5cff1a9cbfe3"
      },
      "execution_count": 3,
      "outputs": [
        {
          "output_type": "stream",
          "name": "stdout",
          "text": [
            "Looking in indexes: https://pypi.org/simple, https://us-python.pkg.dev/colab-wheels/public/simple/\n",
            "Collecting git+https://github.com/openai/whisper.git\n",
            "  Cloning https://github.com/openai/whisper.git to /tmp/pip-req-build-d60xso_o\n",
            "  Running command git clone --filter=blob:none --quiet https://github.com/openai/whisper.git /tmp/pip-req-build-d60xso_o\n",
            "  Resolved https://github.com/openai/whisper.git to commit 5c1a8c10e762bf9c29fcf6b3e40f17bc8ab09864\n",
            "  Preparing metadata (setup.py) ... \u001b[?25l\u001b[?25hdone\n",
            "Requirement already satisfied: numpy in /usr/local/lib/python3.8/dist-packages (from openai-whisper==20230124) (1.21.6)\n",
            "Requirement already satisfied: torch in /usr/local/lib/python3.8/dist-packages (from openai-whisper==20230124) (1.13.1+cu116)\n",
            "Requirement already satisfied: tqdm in /usr/local/lib/python3.8/dist-packages (from openai-whisper==20230124) (4.64.1)\n",
            "Requirement already satisfied: more-itertools in /usr/local/lib/python3.8/dist-packages (from openai-whisper==20230124) (9.0.0)\n",
            "Collecting transformers>=4.19.0\n",
            "  Downloading transformers-4.26.0-py3-none-any.whl (6.3 MB)\n",
            "\u001b[2K     \u001b[90m━━━━━━━━━━━━━━━━━━━━━━━━━━━━━━━━━━━━━━━━\u001b[0m \u001b[32m6.3/6.3 MB\u001b[0m \u001b[31m71.3 MB/s\u001b[0m eta \u001b[36m0:00:00\u001b[0m\n",
            "\u001b[?25hCollecting ffmpeg-python==0.2.0\n",
            "  Downloading ffmpeg_python-0.2.0-py3-none-any.whl (25 kB)\n",
            "Requirement already satisfied: future in /usr/local/lib/python3.8/dist-packages (from ffmpeg-python==0.2.0->openai-whisper==20230124) (0.16.0)\n",
            "Requirement already satisfied: pyyaml>=5.1 in /usr/local/lib/python3.8/dist-packages (from transformers>=4.19.0->openai-whisper==20230124) (6.0)\n",
            "Collecting tokenizers!=0.11.3,<0.14,>=0.11.1\n",
            "  Downloading tokenizers-0.13.2-cp38-cp38-manylinux_2_17_x86_64.manylinux2014_x86_64.whl (7.6 MB)\n",
            "\u001b[2K     \u001b[90m━━━━━━━━━━━━━━━━━━━━━━━━━━━━━━━━━━━━━━━━\u001b[0m \u001b[32m7.6/7.6 MB\u001b[0m \u001b[31m76.8 MB/s\u001b[0m eta \u001b[36m0:00:00\u001b[0m\n",
            "\u001b[?25hCollecting huggingface-hub<1.0,>=0.11.0\n",
            "  Downloading huggingface_hub-0.12.0-py3-none-any.whl (190 kB)\n",
            "\u001b[2K     \u001b[90m━━━━━━━━━━━━━━━━━━━━━━━━━━━━━━━━━━━━━━\u001b[0m \u001b[32m190.3/190.3 KB\u001b[0m \u001b[31m22.8 MB/s\u001b[0m eta \u001b[36m0:00:00\u001b[0m\n",
            "\u001b[?25hRequirement already satisfied: filelock in /usr/local/lib/python3.8/dist-packages (from transformers>=4.19.0->openai-whisper==20230124) (3.9.0)\n",
            "Requirement already satisfied: requests in /usr/local/lib/python3.8/dist-packages (from transformers>=4.19.0->openai-whisper==20230124) (2.25.1)\n",
            "Requirement already satisfied: packaging>=20.0 in /usr/local/lib/python3.8/dist-packages (from transformers>=4.19.0->openai-whisper==20230124) (21.3)\n",
            "Requirement already satisfied: regex!=2019.12.17 in /usr/local/lib/python3.8/dist-packages (from transformers>=4.19.0->openai-whisper==20230124) (2022.6.2)\n",
            "Requirement already satisfied: typing-extensions in /usr/local/lib/python3.8/dist-packages (from torch->openai-whisper==20230124) (4.4.0)\n",
            "Requirement already satisfied: pyparsing!=3.0.5,>=2.0.2 in /usr/local/lib/python3.8/dist-packages (from packaging>=20.0->transformers>=4.19.0->openai-whisper==20230124) (3.0.9)\n",
            "Requirement already satisfied: chardet<5,>=3.0.2 in /usr/local/lib/python3.8/dist-packages (from requests->transformers>=4.19.0->openai-whisper==20230124) (4.0.0)\n",
            "Requirement already satisfied: urllib3<1.27,>=1.21.1 in /usr/local/lib/python3.8/dist-packages (from requests->transformers>=4.19.0->openai-whisper==20230124) (1.24.3)\n",
            "Requirement already satisfied: certifi>=2017.4.17 in /usr/local/lib/python3.8/dist-packages (from requests->transformers>=4.19.0->openai-whisper==20230124) (2022.12.7)\n",
            "Requirement already satisfied: idna<3,>=2.5 in /usr/local/lib/python3.8/dist-packages (from requests->transformers>=4.19.0->openai-whisper==20230124) (2.10)\n",
            "Building wheels for collected packages: openai-whisper\n",
            "  Building wheel for openai-whisper (setup.py) ... \u001b[?25l\u001b[?25hdone\n",
            "  Created wheel for openai-whisper: filename=openai_whisper-20230124-py3-none-any.whl size=1179333 sha256=d097bbdf7cb31c1c8ea4ec7faf667ed77597b26f452ae0387aaef34cb0437a4e\n",
            "  Stored in directory: /tmp/pip-ephem-wheel-cache-keqc39qy/wheels/a7/70/18/b7693c07b1d18b3dafb328f5d0496aa0d41a9c09ef332fd8e6\n",
            "Successfully built openai-whisper\n",
            "Installing collected packages: tokenizers, ffmpeg-python, huggingface-hub, transformers, openai-whisper\n",
            "Successfully installed ffmpeg-python-0.2.0 huggingface-hub-0.12.0 openai-whisper-20230124 tokenizers-0.13.2 transformers-4.26.0\n",
            "Looking in indexes: https://pypi.org/simple, https://us-python.pkg.dev/colab-wheels/public/simple/\n",
            "Collecting jiwer\n",
            "  Downloading jiwer-2.5.1-py3-none-any.whl (15 kB)\n",
            "Collecting levenshtein==0.20.2\n",
            "  Downloading Levenshtein-0.20.2-cp38-cp38-manylinux_2_17_x86_64.manylinux2014_x86_64.whl (1.4 MB)\n",
            "\u001b[2K     \u001b[90m━━━━━━━━━━━━━━━━━━━━━━━━━━━━━━━━━━━━━━━━\u001b[0m \u001b[32m1.4/1.4 MB\u001b[0m \u001b[31m5.0 MB/s\u001b[0m eta \u001b[36m0:00:00\u001b[0m\n",
            "\u001b[?25hCollecting rapidfuzz<3.0.0,>=2.3.0\n",
            "  Downloading rapidfuzz-2.13.7-cp38-cp38-manylinux_2_17_x86_64.manylinux2014_x86_64.whl (2.2 MB)\n",
            "\u001b[2K     \u001b[90m━━━━━━━━━━━━━━━━━━━━━━━━━━━━━━━━━━━━━━━━\u001b[0m \u001b[32m2.2/2.2 MB\u001b[0m \u001b[31m92.5 MB/s\u001b[0m eta \u001b[36m0:00:00\u001b[0m\n",
            "\u001b[?25hInstalling collected packages: rapidfuzz, levenshtein, jiwer\n",
            "Successfully installed jiwer-2.5.1 levenshtein-0.20.2 rapidfuzz-2.13.7\n"
          ]
        }
      ]
    },
    {
      "cell_type": "code",
      "source": [
        "import whisper"
      ],
      "metadata": {
        "id": "9xQQ6kNTeej6"
      },
      "execution_count": 4,
      "outputs": []
    },
    {
      "cell_type": "code",
      "execution_count": 5,
      "metadata": {
        "colab": {
          "base_uri": "https://localhost:8080/"
        },
        "id": "-d7s4zCTNJQ4",
        "outputId": "8e9c832e-76cb-4c03-af0a-e24623a86a58"
      },
      "outputs": [
        {
          "output_type": "stream",
          "name": "stdout",
          "text": [
            "Mounted at /content/drive\n"
          ]
        }
      ],
      "source": [
        "from google.colab import drive\n",
        "drive.mount('/content/drive')"
      ]
    },
    {
      "cell_type": "markdown",
      "metadata": {
        "id": "f8qTAgGTPmBb"
      },
      "source": [
        "# Define parameters and Load Whisper models"
      ]
    },
    {
      "cell_type": "code",
      "execution_count": 6,
      "metadata": {
        "id": "Cyd3O4fZTUgW"
      },
      "outputs": [],
      "source": [
        "audioFilePath_NoFall = '/content/drive/My Drive/Whisper_Test/NoFall'"
      ]
    },
    {
      "cell_type": "code",
      "source": [
        "model_tiny = whisper.load_model(\"tiny\") #Use Tiny whisper model"
      ],
      "metadata": {
        "id": "iG3J7htpegdt",
        "colab": {
          "base_uri": "https://localhost:8080/"
        },
        "outputId": "c4f044c2-d037-4e7d-f8f3-c9acb6af1e8e"
      },
      "execution_count": 7,
      "outputs": [
        {
          "output_type": "stream",
          "name": "stderr",
          "text": [
            "100%|██████████████████████████████████████| 72.1M/72.1M [00:00<00:00, 106MiB/s]\n"
          ]
        }
      ]
    },
    {
      "cell_type": "code",
      "source": [
        "model_medium = whisper.load_model(\"medium\") #Use Medium whisper model"
      ],
      "metadata": {
        "colab": {
          "base_uri": "https://localhost:8080/"
        },
        "id": "Qzzp01yIQ0a-",
        "outputId": "f6c556cd-9ed7-4427-cdc3-5f4272ff5f12"
      },
      "execution_count": 8,
      "outputs": [
        {
          "output_type": "stream",
          "name": "stderr",
          "text": [
            "100%|██████████████████████████████████████| 1.42G/1.42G [00:10<00:00, 149MiB/s]\n"
          ]
        }
      ]
    },
    {
      "cell_type": "code",
      "source": [
        "model_large = whisper.load_model(\"large\") #Use Large whisper model"
      ],
      "metadata": {
        "id": "0CbO8vSDb_ex"
      },
      "execution_count": 9,
      "outputs": []
    },
    {
      "cell_type": "markdown",
      "source": [
        "# Convert audio files from .wav to .mp3\n",
        "Whisper model needs .mp3 format. The original dataset was all in .wav format"
      ],
      "metadata": {
        "id": "z5WRpwfqJfkZ"
      }
    },
    {
      "cell_type": "code",
      "source": [
        "def Convert_wav_2_mp3(rootdir):\n",
        "\n",
        "  for it in os.scandir(rootdir):\n",
        "    if it.is_dir():\n",
        "      category_dir = it.path\n",
        "      print(category_dir)\n",
        "    \n",
        "      #Read contents in this directory \n",
        "      for file in os.listdir(category_dir):\n",
        "        filename = os.fsencode(file)\n",
        "        filename = filename.decode()\n",
        "        #print(filename)\n",
        "        if filename.endswith(\".wav\"):\n",
        "          # Get an audio file to be processed from the directory\n",
        "           audio_path = (os.path.join(category_dir,filename)) \n",
        "           #print(audio_path)\n",
        "\n",
        "           mp3_file = os.path.splitext(filename)[0] + '.mp3' #name the file with .mp3 extension\n",
        "           path_to_save = (os.path.join(category_dir,mp3_file))\n",
        "           #print(path_to_save)\n",
        "\n",
        "           sound = pydub.AudioSegment.from_wav(audio_path) #convert to .mp3\n",
        "           sound.export(path_to_save, format=\"mp3\")"
      ],
      "metadata": {
        "id": "BztOh7uvJsxE"
      },
      "execution_count": null,
      "outputs": []
    },
    {
      "cell_type": "code",
      "source": [
        "#Convert_wav_2_mp3(audioFilePath_Fall)"
      ],
      "metadata": {
        "id": "LbdvTtoZNTpF"
      },
      "execution_count": null,
      "outputs": []
    },
    {
      "cell_type": "code",
      "source": [
        "#Convert_wav_2_mp3(audioFilePath_NoFall)"
      ],
      "metadata": {
        "id": "LKlkpf0ul9xa"
      },
      "execution_count": null,
      "outputs": []
    },
    {
      "cell_type": "markdown",
      "source": [
        "# **1. Evaluate the whisper model for English transcription**"
      ],
      "metadata": {
        "id": "Z0KLT3Poobkk"
      }
    },
    {
      "cell_type": "markdown",
      "source": [
        "Key function for transcription"
      ],
      "metadata": {
        "id": "1D04PElZvtn6"
      }
    },
    {
      "cell_type": "code",
      "source": [
        "def transcribe_english(audio_path, whisper_model):\n",
        "  audio = audio_path\n",
        "  #print(audio)\n",
        "\n",
        "  options = {\"fp16\": False, \"language\": \"en\", \"task\": \"transcribe\"}\n",
        "  result = whisper_model.transcribe(audio, **options)\n",
        "\n",
        "  return result[\"text\"]"
      ],
      "metadata": {
        "id": "ywuu75_ogHZV"
      },
      "execution_count": null,
      "outputs": []
    },
    {
      "cell_type": "markdown",
      "metadata": {
        "id": "Ny4wBgGhSCJZ"
      },
      "source": [
        "*   Read the mp3 files\n",
        "*   Transcribe using the Whisper model\n",
        "*   Read the actual text labels for the .mp3 files\n",
        "\n",
        "\n"
      ]
    },
    {
      "cell_type": "code",
      "execution_count": null,
      "metadata": {
        "id": "o12CKF9zeA3i"
      },
      "outputs": [],
      "source": [
        "def ReadAudios_andTranscribe(rootdir, whisper_model):\n",
        "  sample_count = 0\n",
        "  transcript_all = []\n",
        "  ActualText_all = []\n",
        "\n",
        "  for it in os.scandir(rootdir):\n",
        "    if it.is_dir():\n",
        "      category_dir = it.path\n",
        "      #print(category_dir)\n",
        " \n",
        "      #Read contents in this directory \n",
        "      for file in os.listdir(category_dir):\n",
        "        filename = os.fsencode(file)\n",
        "        filename = filename.decode()\n",
        "        filename_without_ext = os.path.splitext(filename)[0] \n",
        "        text_file =  (os.path.join(category_dir,filename_without_ext + '.txt'))\n",
        "        if filename.endswith(\".mp3\"):\n",
        "          # Get an audio file to be processed from the directory\n",
        "           audio_path = (os.path.join(category_dir,filename)) \n",
        "\n",
        "           text_in_audio = transcribe_english(audio_path, whisper_model) #transcribe using the whisper model\n",
        "           transcript_all.append(text_in_audio)\n",
        "\n",
        "           with open(text_file) as f: #read the actual corresponding text in the audio file\n",
        "             actual_text = f.readlines()\n",
        "             ActualText_all.append(actual_text)\n",
        "\n",
        "           sample_count = sample_count+1  \n",
        "\n",
        "  return  transcript_all, ActualText_all\n"
      ]
    },
    {
      "cell_type": "markdown",
      "metadata": {
        "id": "VQI_MASFSzhY"
      },
      "source": [
        "#1a. Evaluate the '**tiny**' whisper model for English transcription"
      ]
    },
    {
      "cell_type": "code",
      "execution_count": null,
      "metadata": {
        "id": "SlLc1L7RTKFb"
      },
      "outputs": [],
      "source": [
        "transcripts_all_NoFall, Actual_text_all_NoFall = ReadAudios_andTranscribe(audioFilePath_NoFall, model_tiny)"
      ]
    },
    {
      "cell_type": "code",
      "source": [
        "print(len(transcripts_all_NoFall))"
      ],
      "metadata": {
        "colab": {
          "base_uri": "https://localhost:8080/"
        },
        "id": "mtWTQNa-nlHU",
        "outputId": "a424a73f-b25a-4c19-ba0e-99ab53fe2a65"
      },
      "execution_count": null,
      "outputs": [
        {
          "output_type": "stream",
          "name": "stdout",
          "text": [
            "6\n"
          ]
        }
      ]
    },
    {
      "cell_type": "code",
      "source": [
        "# Function to convert a list of lists to a single list\n",
        "\n",
        "Actual_text_NoFall = []\n",
        "for idx in range(0, len(Actual_text_all_NoFall)):\n",
        "  text = Actual_text_all_NoFall[idx]\n",
        "\n",
        "  if text:\n",
        "    actual_text = text[0]\n",
        "    Actual_text_NoFall.append(actual_text)\n",
        "  else:\n",
        "    actual_text = ''\n",
        "    Actual_text_NoFall.append(actual_text)"
      ],
      "metadata": {
        "id": "LWpVOej7zFTY"
      },
      "execution_count": null,
      "outputs": []
    },
    {
      "cell_type": "markdown",
      "source": [
        "## Calculate the Word Error Rate (WER)"
      ],
      "metadata": {
        "id": "tjolYlRH2Xw9"
      }
    },
    {
      "cell_type": "code",
      "source": [
        "import jiwer\n",
        "from whisper.normalizers import EnglishTextNormalizer\n",
        "normalizer = EnglishTextNormalizer()"
      ],
      "metadata": {
        "id": "5hSMNxK7yFXm"
      },
      "execution_count": null,
      "outputs": []
    },
    {
      "cell_type": "code",
      "source": [
        "dataNoFall = pd.DataFrame(dict(whisper_prediction=transcripts_all_NoFall, Actual_Text=Actual_text_NoFall))\n",
        "dataNoFall"
      ],
      "metadata": {
        "colab": {
          "base_uri": "https://localhost:8080/",
          "height": 238
        },
        "id": "9G_pn53HxrJz",
        "outputId": "2e3db87a-d90d-4510-8358-f7f9ab501633"
      },
      "execution_count": null,
      "outputs": [
        {
          "output_type": "execute_result",
          "data": {
            "text/plain": [
              "                                  whisper_prediction  \\\n",
              "0                                                      \n",
              "1                                                      \n",
              "2                                                      \n",
              "3   Hi, good morning. Hello. Good morning. Good m...   \n",
              "4             Hi, very good bed. Hey, very good bed.   \n",
              "5                                What are you doing?   \n",
              "\n",
              "                                      Actual_Text  \n",
              "0                                                  \n",
              "1                                                  \n",
              "2                                                  \n",
              "3               hi how are you hello good morning  \n",
              "4  hi today is a good day hey today is a good day  \n",
              "5                   bafou what are you doing here  "
            ],
            "text/html": [
              "\n",
              "  <div id=\"df-ae783c9b-8e44-490b-9acf-8f960888510e\">\n",
              "    <div class=\"colab-df-container\">\n",
              "      <div>\n",
              "<style scoped>\n",
              "    .dataframe tbody tr th:only-of-type {\n",
              "        vertical-align: middle;\n",
              "    }\n",
              "\n",
              "    .dataframe tbody tr th {\n",
              "        vertical-align: top;\n",
              "    }\n",
              "\n",
              "    .dataframe thead th {\n",
              "        text-align: right;\n",
              "    }\n",
              "</style>\n",
              "<table border=\"1\" class=\"dataframe\">\n",
              "  <thead>\n",
              "    <tr style=\"text-align: right;\">\n",
              "      <th></th>\n",
              "      <th>whisper_prediction</th>\n",
              "      <th>Actual_Text</th>\n",
              "    </tr>\n",
              "  </thead>\n",
              "  <tbody>\n",
              "    <tr>\n",
              "      <th>0</th>\n",
              "      <td></td>\n",
              "      <td></td>\n",
              "    </tr>\n",
              "    <tr>\n",
              "      <th>1</th>\n",
              "      <td></td>\n",
              "      <td></td>\n",
              "    </tr>\n",
              "    <tr>\n",
              "      <th>2</th>\n",
              "      <td></td>\n",
              "      <td></td>\n",
              "    </tr>\n",
              "    <tr>\n",
              "      <th>3</th>\n",
              "      <td>Hi, good morning. Hello. Good morning. Good m...</td>\n",
              "      <td>hi how are you hello good morning</td>\n",
              "    </tr>\n",
              "    <tr>\n",
              "      <th>4</th>\n",
              "      <td>Hi, very good bed. Hey, very good bed.</td>\n",
              "      <td>hi today is a good day hey today is a good day</td>\n",
              "    </tr>\n",
              "    <tr>\n",
              "      <th>5</th>\n",
              "      <td>What are you doing?</td>\n",
              "      <td>bafou what are you doing here</td>\n",
              "    </tr>\n",
              "  </tbody>\n",
              "</table>\n",
              "</div>\n",
              "      <button class=\"colab-df-convert\" onclick=\"convertToInteractive('df-ae783c9b-8e44-490b-9acf-8f960888510e')\"\n",
              "              title=\"Convert this dataframe to an interactive table.\"\n",
              "              style=\"display:none;\">\n",
              "        \n",
              "  <svg xmlns=\"http://www.w3.org/2000/svg\" height=\"24px\"viewBox=\"0 0 24 24\"\n",
              "       width=\"24px\">\n",
              "    <path d=\"M0 0h24v24H0V0z\" fill=\"none\"/>\n",
              "    <path d=\"M18.56 5.44l.94 2.06.94-2.06 2.06-.94-2.06-.94-.94-2.06-.94 2.06-2.06.94zm-11 1L8.5 8.5l.94-2.06 2.06-.94-2.06-.94L8.5 2.5l-.94 2.06-2.06.94zm10 10l.94 2.06.94-2.06 2.06-.94-2.06-.94-.94-2.06-.94 2.06-2.06.94z\"/><path d=\"M17.41 7.96l-1.37-1.37c-.4-.4-.92-.59-1.43-.59-.52 0-1.04.2-1.43.59L10.3 9.45l-7.72 7.72c-.78.78-.78 2.05 0 2.83L4 21.41c.39.39.9.59 1.41.59.51 0 1.02-.2 1.41-.59l7.78-7.78 2.81-2.81c.8-.78.8-2.07 0-2.86zM5.41 20L4 18.59l7.72-7.72 1.47 1.35L5.41 20z\"/>\n",
              "  </svg>\n",
              "      </button>\n",
              "      \n",
              "  <style>\n",
              "    .colab-df-container {\n",
              "      display:flex;\n",
              "      flex-wrap:wrap;\n",
              "      gap: 12px;\n",
              "    }\n",
              "\n",
              "    .colab-df-convert {\n",
              "      background-color: #E8F0FE;\n",
              "      border: none;\n",
              "      border-radius: 50%;\n",
              "      cursor: pointer;\n",
              "      display: none;\n",
              "      fill: #1967D2;\n",
              "      height: 32px;\n",
              "      padding: 0 0 0 0;\n",
              "      width: 32px;\n",
              "    }\n",
              "\n",
              "    .colab-df-convert:hover {\n",
              "      background-color: #E2EBFA;\n",
              "      box-shadow: 0px 1px 2px rgba(60, 64, 67, 0.3), 0px 1px 3px 1px rgba(60, 64, 67, 0.15);\n",
              "      fill: #174EA6;\n",
              "    }\n",
              "\n",
              "    [theme=dark] .colab-df-convert {\n",
              "      background-color: #3B4455;\n",
              "      fill: #D2E3FC;\n",
              "    }\n",
              "\n",
              "    [theme=dark] .colab-df-convert:hover {\n",
              "      background-color: #434B5C;\n",
              "      box-shadow: 0px 1px 3px 1px rgba(0, 0, 0, 0.15);\n",
              "      filter: drop-shadow(0px 1px 2px rgba(0, 0, 0, 0.3));\n",
              "      fill: #FFFFFF;\n",
              "    }\n",
              "  </style>\n",
              "\n",
              "      <script>\n",
              "        const buttonEl =\n",
              "          document.querySelector('#df-ae783c9b-8e44-490b-9acf-8f960888510e button.colab-df-convert');\n",
              "        buttonEl.style.display =\n",
              "          google.colab.kernel.accessAllowed ? 'block' : 'none';\n",
              "\n",
              "        async function convertToInteractive(key) {\n",
              "          const element = document.querySelector('#df-ae783c9b-8e44-490b-9acf-8f960888510e');\n",
              "          const dataTable =\n",
              "            await google.colab.kernel.invokeFunction('convertToInteractive',\n",
              "                                                     [key], {});\n",
              "          if (!dataTable) return;\n",
              "\n",
              "          const docLinkHtml = 'Like what you see? Visit the ' +\n",
              "            '<a target=\"_blank\" href=https://colab.research.google.com/notebooks/data_table.ipynb>data table notebook</a>'\n",
              "            + ' to learn more about interactive tables.';\n",
              "          element.innerHTML = '';\n",
              "          dataTable['output_type'] = 'display_data';\n",
              "          await google.colab.output.renderOutput(dataTable, element);\n",
              "          const docLink = document.createElement('div');\n",
              "          docLink.innerHTML = docLinkHtml;\n",
              "          element.appendChild(docLink);\n",
              "        }\n",
              "      </script>\n",
              "    </div>\n",
              "  </div>\n",
              "  "
            ]
          },
          "metadata": {},
          "execution_count": 22
        }
      ]
    },
    {
      "cell_type": "code",
      "source": [
        "dataNoFall[\"whisper_prediction_clean\"] = [normalizer(text) for text in dataNoFall[\"whisper_prediction\"]]\n",
        "dataNoFall[\"Actual_Text_clean\"] = [normalizer(text) for text in dataNoFall[\"Actual_Text\"]]\n",
        "dataNoFall"
      ],
      "metadata": {
        "colab": {
          "base_uri": "https://localhost:8080/",
          "height": 238
        },
        "id": "rhsxAc-R5gTl",
        "outputId": "b9a152f5-670e-4fb2-cc9a-4dfc55ca348c"
      },
      "execution_count": null,
      "outputs": [
        {
          "output_type": "execute_result",
          "data": {
            "text/plain": [
              "                                  whisper_prediction  \\\n",
              "0                                                      \n",
              "1                                                      \n",
              "2                                                      \n",
              "3   Hi, good morning. Hello. Good morning. Good m...   \n",
              "4             Hi, very good bed. Hey, very good bed.   \n",
              "5                                What are you doing?   \n",
              "\n",
              "                                      Actual_Text  \\\n",
              "0                                                   \n",
              "1                                                   \n",
              "2                                                   \n",
              "3               hi how are you hello good morning   \n",
              "4  hi today is a good day hey today is a good day   \n",
              "5                   bafou what are you doing here   \n",
              "\n",
              "                          whisper_prediction_clean  \\\n",
              "0                                                    \n",
              "1                                                    \n",
              "2                                                    \n",
              "3  hi good morning hello good morning good morning   \n",
              "4               hi very good bed hey very good bed   \n",
              "5                               what are you doing   \n",
              "\n",
              "                                Actual_Text_clean  \n",
              "0                                                  \n",
              "1                                                  \n",
              "2                                                  \n",
              "3               hi how are you hello good morning  \n",
              "4  hi today is a good day hey today is a good day  \n",
              "5                   bafou what are you doing here  "
            ],
            "text/html": [
              "\n",
              "  <div id=\"df-18ef7448-8d74-418b-88e1-9f7d2a5fae74\">\n",
              "    <div class=\"colab-df-container\">\n",
              "      <div>\n",
              "<style scoped>\n",
              "    .dataframe tbody tr th:only-of-type {\n",
              "        vertical-align: middle;\n",
              "    }\n",
              "\n",
              "    .dataframe tbody tr th {\n",
              "        vertical-align: top;\n",
              "    }\n",
              "\n",
              "    .dataframe thead th {\n",
              "        text-align: right;\n",
              "    }\n",
              "</style>\n",
              "<table border=\"1\" class=\"dataframe\">\n",
              "  <thead>\n",
              "    <tr style=\"text-align: right;\">\n",
              "      <th></th>\n",
              "      <th>whisper_prediction</th>\n",
              "      <th>Actual_Text</th>\n",
              "      <th>whisper_prediction_clean</th>\n",
              "      <th>Actual_Text_clean</th>\n",
              "    </tr>\n",
              "  </thead>\n",
              "  <tbody>\n",
              "    <tr>\n",
              "      <th>0</th>\n",
              "      <td></td>\n",
              "      <td></td>\n",
              "      <td></td>\n",
              "      <td></td>\n",
              "    </tr>\n",
              "    <tr>\n",
              "      <th>1</th>\n",
              "      <td></td>\n",
              "      <td></td>\n",
              "      <td></td>\n",
              "      <td></td>\n",
              "    </tr>\n",
              "    <tr>\n",
              "      <th>2</th>\n",
              "      <td></td>\n",
              "      <td></td>\n",
              "      <td></td>\n",
              "      <td></td>\n",
              "    </tr>\n",
              "    <tr>\n",
              "      <th>3</th>\n",
              "      <td>Hi, good morning. Hello. Good morning. Good m...</td>\n",
              "      <td>hi how are you hello good morning</td>\n",
              "      <td>hi good morning hello good morning good morning</td>\n",
              "      <td>hi how are you hello good morning</td>\n",
              "    </tr>\n",
              "    <tr>\n",
              "      <th>4</th>\n",
              "      <td>Hi, very good bed. Hey, very good bed.</td>\n",
              "      <td>hi today is a good day hey today is a good day</td>\n",
              "      <td>hi very good bed hey very good bed</td>\n",
              "      <td>hi today is a good day hey today is a good day</td>\n",
              "    </tr>\n",
              "    <tr>\n",
              "      <th>5</th>\n",
              "      <td>What are you doing?</td>\n",
              "      <td>bafou what are you doing here</td>\n",
              "      <td>what are you doing</td>\n",
              "      <td>bafou what are you doing here</td>\n",
              "    </tr>\n",
              "  </tbody>\n",
              "</table>\n",
              "</div>\n",
              "      <button class=\"colab-df-convert\" onclick=\"convertToInteractive('df-18ef7448-8d74-418b-88e1-9f7d2a5fae74')\"\n",
              "              title=\"Convert this dataframe to an interactive table.\"\n",
              "              style=\"display:none;\">\n",
              "        \n",
              "  <svg xmlns=\"http://www.w3.org/2000/svg\" height=\"24px\"viewBox=\"0 0 24 24\"\n",
              "       width=\"24px\">\n",
              "    <path d=\"M0 0h24v24H0V0z\" fill=\"none\"/>\n",
              "    <path d=\"M18.56 5.44l.94 2.06.94-2.06 2.06-.94-2.06-.94-.94-2.06-.94 2.06-2.06.94zm-11 1L8.5 8.5l.94-2.06 2.06-.94-2.06-.94L8.5 2.5l-.94 2.06-2.06.94zm10 10l.94 2.06.94-2.06 2.06-.94-2.06-.94-.94-2.06-.94 2.06-2.06.94z\"/><path d=\"M17.41 7.96l-1.37-1.37c-.4-.4-.92-.59-1.43-.59-.52 0-1.04.2-1.43.59L10.3 9.45l-7.72 7.72c-.78.78-.78 2.05 0 2.83L4 21.41c.39.39.9.59 1.41.59.51 0 1.02-.2 1.41-.59l7.78-7.78 2.81-2.81c.8-.78.8-2.07 0-2.86zM5.41 20L4 18.59l7.72-7.72 1.47 1.35L5.41 20z\"/>\n",
              "  </svg>\n",
              "      </button>\n",
              "      \n",
              "  <style>\n",
              "    .colab-df-container {\n",
              "      display:flex;\n",
              "      flex-wrap:wrap;\n",
              "      gap: 12px;\n",
              "    }\n",
              "\n",
              "    .colab-df-convert {\n",
              "      background-color: #E8F0FE;\n",
              "      border: none;\n",
              "      border-radius: 50%;\n",
              "      cursor: pointer;\n",
              "      display: none;\n",
              "      fill: #1967D2;\n",
              "      height: 32px;\n",
              "      padding: 0 0 0 0;\n",
              "      width: 32px;\n",
              "    }\n",
              "\n",
              "    .colab-df-convert:hover {\n",
              "      background-color: #E2EBFA;\n",
              "      box-shadow: 0px 1px 2px rgba(60, 64, 67, 0.3), 0px 1px 3px 1px rgba(60, 64, 67, 0.15);\n",
              "      fill: #174EA6;\n",
              "    }\n",
              "\n",
              "    [theme=dark] .colab-df-convert {\n",
              "      background-color: #3B4455;\n",
              "      fill: #D2E3FC;\n",
              "    }\n",
              "\n",
              "    [theme=dark] .colab-df-convert:hover {\n",
              "      background-color: #434B5C;\n",
              "      box-shadow: 0px 1px 3px 1px rgba(0, 0, 0, 0.15);\n",
              "      filter: drop-shadow(0px 1px 2px rgba(0, 0, 0, 0.3));\n",
              "      fill: #FFFFFF;\n",
              "    }\n",
              "  </style>\n",
              "\n",
              "      <script>\n",
              "        const buttonEl =\n",
              "          document.querySelector('#df-18ef7448-8d74-418b-88e1-9f7d2a5fae74 button.colab-df-convert');\n",
              "        buttonEl.style.display =\n",
              "          google.colab.kernel.accessAllowed ? 'block' : 'none';\n",
              "\n",
              "        async function convertToInteractive(key) {\n",
              "          const element = document.querySelector('#df-18ef7448-8d74-418b-88e1-9f7d2a5fae74');\n",
              "          const dataTable =\n",
              "            await google.colab.kernel.invokeFunction('convertToInteractive',\n",
              "                                                     [key], {});\n",
              "          if (!dataTable) return;\n",
              "\n",
              "          const docLinkHtml = 'Like what you see? Visit the ' +\n",
              "            '<a target=\"_blank\" href=https://colab.research.google.com/notebooks/data_table.ipynb>data table notebook</a>'\n",
              "            + ' to learn more about interactive tables.';\n",
              "          element.innerHTML = '';\n",
              "          dataTable['output_type'] = 'display_data';\n",
              "          await google.colab.output.renderOutput(dataTable, element);\n",
              "          const docLink = document.createElement('div');\n",
              "          docLink.innerHTML = docLinkHtml;\n",
              "          element.appendChild(docLink);\n",
              "        }\n",
              "      </script>\n",
              "    </div>\n",
              "  </div>\n",
              "  "
            ]
          },
          "metadata": {},
          "execution_count": 23
        }
      ]
    },
    {
      "cell_type": "code",
      "source": [
        "# Remove the rows where actual text is empty (corresponding to audio with No Speech contect in it)\n",
        "idx_2_remove = (dataNoFall[dataNoFall['Actual_Text_clean']==''].index.values)\n",
        "print(idx_2_remove)"
      ],
      "metadata": {
        "colab": {
          "base_uri": "https://localhost:8080/"
        },
        "id": "v5PMYRgR9oQL",
        "outputId": "a211ae3e-85cf-442d-d406-1ccde8e507f0"
      },
      "execution_count": null,
      "outputs": [
        {
          "output_type": "stream",
          "name": "stdout",
          "text": [
            "[0 1 2]\n"
          ]
        }
      ]
    },
    {
      "cell_type": "code",
      "source": [
        "dataNoFall.drop(idx_2_remove, axis=0, inplace=True)"
      ],
      "metadata": {
        "id": "1E7YRF_Z9u2R"
      },
      "execution_count": null,
      "outputs": []
    },
    {
      "cell_type": "code",
      "source": [
        "# Calculate the WER\n",
        "\n",
        "wer = jiwer.wer(list(dataNoFall[\"Actual_Text_clean\"]), list(dataNoFall[\"whisper_prediction_clean\"]))\n",
        "print(f\"WER: {wer * 100:.2f} %\")"
      ],
      "metadata": {
        "colab": {
          "base_uri": "https://localhost:8080/"
        },
        "id": "2tvqJy8S6lD1",
        "outputId": "422b4855-6000-4878-d507-2ad804072c0b"
      },
      "execution_count": null,
      "outputs": [
        {
          "output_type": "stream",
          "name": "stdout",
          "text": [
            "WER: 60.00 %\n"
          ]
        }
      ]
    },
    {
      "cell_type": "markdown",
      "source": [
        "# 1b. Evaluate the '**medium**' model for English transciption"
      ],
      "metadata": {
        "id": "AJylcyU1XkeQ"
      }
    },
    {
      "cell_type": "code",
      "source": [
        "transcripts_all_medium, Actual_text_all_medium = ReadAudios_andTranscribe(audioFilePath_NoFall, model_medium)"
      ],
      "metadata": {
        "id": "u6fwiXh9Zha5"
      },
      "execution_count": null,
      "outputs": []
    },
    {
      "cell_type": "markdown",
      "source": [
        "## Calculate the Word Error Rate (WER)"
      ],
      "metadata": {
        "id": "RnZq6pt0ZtNZ"
      }
    },
    {
      "cell_type": "code",
      "source": [
        "dataNoFall = pd.DataFrame(dict(whisper_prediction=transcripts_all_medium, Actual_Text=Actual_text_NoFall))\n",
        "dataNoFall"
      ],
      "metadata": {
        "colab": {
          "base_uri": "https://localhost:8080/",
          "height": 238
        },
        "id": "8CiIwlTvZ4rH",
        "outputId": "fb1f19e7-7357-4eb6-f3cb-fbc8c074940d"
      },
      "execution_count": null,
      "outputs": [
        {
          "output_type": "execute_result",
          "data": {
            "text/plain": [
              "                                  whisper_prediction  \\\n",
              "0                                                      \n",
              "1                                                      \n",
              "2                                                      \n",
              "3             Hi, good morning. Hello, good morning.   \n",
              "4   Hi, today is a good day. Hi, today is a good ...   \n",
              "5                                What are you doing?   \n",
              "\n",
              "                                      Actual_Text  \n",
              "0                                                  \n",
              "1                                                  \n",
              "2                                                  \n",
              "3               hi how are you hello good morning  \n",
              "4  hi today is a good day hey today is a good day  \n",
              "5                   bafou what are you doing here  "
            ],
            "text/html": [
              "\n",
              "  <div id=\"df-a6238195-49c1-4ce4-9f50-e126fbe4032b\">\n",
              "    <div class=\"colab-df-container\">\n",
              "      <div>\n",
              "<style scoped>\n",
              "    .dataframe tbody tr th:only-of-type {\n",
              "        vertical-align: middle;\n",
              "    }\n",
              "\n",
              "    .dataframe tbody tr th {\n",
              "        vertical-align: top;\n",
              "    }\n",
              "\n",
              "    .dataframe thead th {\n",
              "        text-align: right;\n",
              "    }\n",
              "</style>\n",
              "<table border=\"1\" class=\"dataframe\">\n",
              "  <thead>\n",
              "    <tr style=\"text-align: right;\">\n",
              "      <th></th>\n",
              "      <th>whisper_prediction</th>\n",
              "      <th>Actual_Text</th>\n",
              "    </tr>\n",
              "  </thead>\n",
              "  <tbody>\n",
              "    <tr>\n",
              "      <th>0</th>\n",
              "      <td></td>\n",
              "      <td></td>\n",
              "    </tr>\n",
              "    <tr>\n",
              "      <th>1</th>\n",
              "      <td></td>\n",
              "      <td></td>\n",
              "    </tr>\n",
              "    <tr>\n",
              "      <th>2</th>\n",
              "      <td></td>\n",
              "      <td></td>\n",
              "    </tr>\n",
              "    <tr>\n",
              "      <th>3</th>\n",
              "      <td>Hi, good morning. Hello, good morning.</td>\n",
              "      <td>hi how are you hello good morning</td>\n",
              "    </tr>\n",
              "    <tr>\n",
              "      <th>4</th>\n",
              "      <td>Hi, today is a good day. Hi, today is a good ...</td>\n",
              "      <td>hi today is a good day hey today is a good day</td>\n",
              "    </tr>\n",
              "    <tr>\n",
              "      <th>5</th>\n",
              "      <td>What are you doing?</td>\n",
              "      <td>bafou what are you doing here</td>\n",
              "    </tr>\n",
              "  </tbody>\n",
              "</table>\n",
              "</div>\n",
              "      <button class=\"colab-df-convert\" onclick=\"convertToInteractive('df-a6238195-49c1-4ce4-9f50-e126fbe4032b')\"\n",
              "              title=\"Convert this dataframe to an interactive table.\"\n",
              "              style=\"display:none;\">\n",
              "        \n",
              "  <svg xmlns=\"http://www.w3.org/2000/svg\" height=\"24px\"viewBox=\"0 0 24 24\"\n",
              "       width=\"24px\">\n",
              "    <path d=\"M0 0h24v24H0V0z\" fill=\"none\"/>\n",
              "    <path d=\"M18.56 5.44l.94 2.06.94-2.06 2.06-.94-2.06-.94-.94-2.06-.94 2.06-2.06.94zm-11 1L8.5 8.5l.94-2.06 2.06-.94-2.06-.94L8.5 2.5l-.94 2.06-2.06.94zm10 10l.94 2.06.94-2.06 2.06-.94-2.06-.94-.94-2.06-.94 2.06-2.06.94z\"/><path d=\"M17.41 7.96l-1.37-1.37c-.4-.4-.92-.59-1.43-.59-.52 0-1.04.2-1.43.59L10.3 9.45l-7.72 7.72c-.78.78-.78 2.05 0 2.83L4 21.41c.39.39.9.59 1.41.59.51 0 1.02-.2 1.41-.59l7.78-7.78 2.81-2.81c.8-.78.8-2.07 0-2.86zM5.41 20L4 18.59l7.72-7.72 1.47 1.35L5.41 20z\"/>\n",
              "  </svg>\n",
              "      </button>\n",
              "      \n",
              "  <style>\n",
              "    .colab-df-container {\n",
              "      display:flex;\n",
              "      flex-wrap:wrap;\n",
              "      gap: 12px;\n",
              "    }\n",
              "\n",
              "    .colab-df-convert {\n",
              "      background-color: #E8F0FE;\n",
              "      border: none;\n",
              "      border-radius: 50%;\n",
              "      cursor: pointer;\n",
              "      display: none;\n",
              "      fill: #1967D2;\n",
              "      height: 32px;\n",
              "      padding: 0 0 0 0;\n",
              "      width: 32px;\n",
              "    }\n",
              "\n",
              "    .colab-df-convert:hover {\n",
              "      background-color: #E2EBFA;\n",
              "      box-shadow: 0px 1px 2px rgba(60, 64, 67, 0.3), 0px 1px 3px 1px rgba(60, 64, 67, 0.15);\n",
              "      fill: #174EA6;\n",
              "    }\n",
              "\n",
              "    [theme=dark] .colab-df-convert {\n",
              "      background-color: #3B4455;\n",
              "      fill: #D2E3FC;\n",
              "    }\n",
              "\n",
              "    [theme=dark] .colab-df-convert:hover {\n",
              "      background-color: #434B5C;\n",
              "      box-shadow: 0px 1px 3px 1px rgba(0, 0, 0, 0.15);\n",
              "      filter: drop-shadow(0px 1px 2px rgba(0, 0, 0, 0.3));\n",
              "      fill: #FFFFFF;\n",
              "    }\n",
              "  </style>\n",
              "\n",
              "      <script>\n",
              "        const buttonEl =\n",
              "          document.querySelector('#df-a6238195-49c1-4ce4-9f50-e126fbe4032b button.colab-df-convert');\n",
              "        buttonEl.style.display =\n",
              "          google.colab.kernel.accessAllowed ? 'block' : 'none';\n",
              "\n",
              "        async function convertToInteractive(key) {\n",
              "          const element = document.querySelector('#df-a6238195-49c1-4ce4-9f50-e126fbe4032b');\n",
              "          const dataTable =\n",
              "            await google.colab.kernel.invokeFunction('convertToInteractive',\n",
              "                                                     [key], {});\n",
              "          if (!dataTable) return;\n",
              "\n",
              "          const docLinkHtml = 'Like what you see? Visit the ' +\n",
              "            '<a target=\"_blank\" href=https://colab.research.google.com/notebooks/data_table.ipynb>data table notebook</a>'\n",
              "            + ' to learn more about interactive tables.';\n",
              "          element.innerHTML = '';\n",
              "          dataTable['output_type'] = 'display_data';\n",
              "          await google.colab.output.renderOutput(dataTable, element);\n",
              "          const docLink = document.createElement('div');\n",
              "          docLink.innerHTML = docLinkHtml;\n",
              "          element.appendChild(docLink);\n",
              "        }\n",
              "      </script>\n",
              "    </div>\n",
              "  </div>\n",
              "  "
            ]
          },
          "metadata": {},
          "execution_count": 28
        }
      ]
    },
    {
      "cell_type": "code",
      "source": [
        "dataNoFall[\"whisper_prediction_clean\"] = [normalizer(text) for text in dataNoFall[\"whisper_prediction\"]]\n",
        "dataNoFall[\"Actual_Text_clean\"] = [normalizer(text) for text in dataNoFall[\"Actual_Text\"]]\n",
        "dataNoFall"
      ],
      "metadata": {
        "colab": {
          "base_uri": "https://localhost:8080/",
          "height": 238
        },
        "id": "GXpjCZsfZ7aF",
        "outputId": "d16ec62a-54ed-4d63-9c07-6c5f57ad5af0"
      },
      "execution_count": null,
      "outputs": [
        {
          "output_type": "execute_result",
          "data": {
            "text/plain": [
              "                                  whisper_prediction  \\\n",
              "0                                                      \n",
              "1                                                      \n",
              "2                                                      \n",
              "3             Hi, good morning. Hello, good morning.   \n",
              "4   Hi, today is a good day. Hi, today is a good ...   \n",
              "5                                What are you doing?   \n",
              "\n",
              "                                      Actual_Text  \\\n",
              "0                                                   \n",
              "1                                                   \n",
              "2                                                   \n",
              "3               hi how are you hello good morning   \n",
              "4  hi today is a good day hey today is a good day   \n",
              "5                   bafou what are you doing here   \n",
              "\n",
              "                        whisper_prediction_clean  \\\n",
              "0                                                  \n",
              "1                                                  \n",
              "2                                                  \n",
              "3             hi good morning hello good morning   \n",
              "4  hi today is a good day hi today is a good day   \n",
              "5                             what are you doing   \n",
              "\n",
              "                                Actual_Text_clean  \n",
              "0                                                  \n",
              "1                                                  \n",
              "2                                                  \n",
              "3               hi how are you hello good morning  \n",
              "4  hi today is a good day hey today is a good day  \n",
              "5                   bafou what are you doing here  "
            ],
            "text/html": [
              "\n",
              "  <div id=\"df-eba2d510-e9b0-40b1-8a7e-bebd84ded076\">\n",
              "    <div class=\"colab-df-container\">\n",
              "      <div>\n",
              "<style scoped>\n",
              "    .dataframe tbody tr th:only-of-type {\n",
              "        vertical-align: middle;\n",
              "    }\n",
              "\n",
              "    .dataframe tbody tr th {\n",
              "        vertical-align: top;\n",
              "    }\n",
              "\n",
              "    .dataframe thead th {\n",
              "        text-align: right;\n",
              "    }\n",
              "</style>\n",
              "<table border=\"1\" class=\"dataframe\">\n",
              "  <thead>\n",
              "    <tr style=\"text-align: right;\">\n",
              "      <th></th>\n",
              "      <th>whisper_prediction</th>\n",
              "      <th>Actual_Text</th>\n",
              "      <th>whisper_prediction_clean</th>\n",
              "      <th>Actual_Text_clean</th>\n",
              "    </tr>\n",
              "  </thead>\n",
              "  <tbody>\n",
              "    <tr>\n",
              "      <th>0</th>\n",
              "      <td></td>\n",
              "      <td></td>\n",
              "      <td></td>\n",
              "      <td></td>\n",
              "    </tr>\n",
              "    <tr>\n",
              "      <th>1</th>\n",
              "      <td></td>\n",
              "      <td></td>\n",
              "      <td></td>\n",
              "      <td></td>\n",
              "    </tr>\n",
              "    <tr>\n",
              "      <th>2</th>\n",
              "      <td></td>\n",
              "      <td></td>\n",
              "      <td></td>\n",
              "      <td></td>\n",
              "    </tr>\n",
              "    <tr>\n",
              "      <th>3</th>\n",
              "      <td>Hi, good morning. Hello, good morning.</td>\n",
              "      <td>hi how are you hello good morning</td>\n",
              "      <td>hi good morning hello good morning</td>\n",
              "      <td>hi how are you hello good morning</td>\n",
              "    </tr>\n",
              "    <tr>\n",
              "      <th>4</th>\n",
              "      <td>Hi, today is a good day. Hi, today is a good ...</td>\n",
              "      <td>hi today is a good day hey today is a good day</td>\n",
              "      <td>hi today is a good day hi today is a good day</td>\n",
              "      <td>hi today is a good day hey today is a good day</td>\n",
              "    </tr>\n",
              "    <tr>\n",
              "      <th>5</th>\n",
              "      <td>What are you doing?</td>\n",
              "      <td>bafou what are you doing here</td>\n",
              "      <td>what are you doing</td>\n",
              "      <td>bafou what are you doing here</td>\n",
              "    </tr>\n",
              "  </tbody>\n",
              "</table>\n",
              "</div>\n",
              "      <button class=\"colab-df-convert\" onclick=\"convertToInteractive('df-eba2d510-e9b0-40b1-8a7e-bebd84ded076')\"\n",
              "              title=\"Convert this dataframe to an interactive table.\"\n",
              "              style=\"display:none;\">\n",
              "        \n",
              "  <svg xmlns=\"http://www.w3.org/2000/svg\" height=\"24px\"viewBox=\"0 0 24 24\"\n",
              "       width=\"24px\">\n",
              "    <path d=\"M0 0h24v24H0V0z\" fill=\"none\"/>\n",
              "    <path d=\"M18.56 5.44l.94 2.06.94-2.06 2.06-.94-2.06-.94-.94-2.06-.94 2.06-2.06.94zm-11 1L8.5 8.5l.94-2.06 2.06-.94-2.06-.94L8.5 2.5l-.94 2.06-2.06.94zm10 10l.94 2.06.94-2.06 2.06-.94-2.06-.94-.94-2.06-.94 2.06-2.06.94z\"/><path d=\"M17.41 7.96l-1.37-1.37c-.4-.4-.92-.59-1.43-.59-.52 0-1.04.2-1.43.59L10.3 9.45l-7.72 7.72c-.78.78-.78 2.05 0 2.83L4 21.41c.39.39.9.59 1.41.59.51 0 1.02-.2 1.41-.59l7.78-7.78 2.81-2.81c.8-.78.8-2.07 0-2.86zM5.41 20L4 18.59l7.72-7.72 1.47 1.35L5.41 20z\"/>\n",
              "  </svg>\n",
              "      </button>\n",
              "      \n",
              "  <style>\n",
              "    .colab-df-container {\n",
              "      display:flex;\n",
              "      flex-wrap:wrap;\n",
              "      gap: 12px;\n",
              "    }\n",
              "\n",
              "    .colab-df-convert {\n",
              "      background-color: #E8F0FE;\n",
              "      border: none;\n",
              "      border-radius: 50%;\n",
              "      cursor: pointer;\n",
              "      display: none;\n",
              "      fill: #1967D2;\n",
              "      height: 32px;\n",
              "      padding: 0 0 0 0;\n",
              "      width: 32px;\n",
              "    }\n",
              "\n",
              "    .colab-df-convert:hover {\n",
              "      background-color: #E2EBFA;\n",
              "      box-shadow: 0px 1px 2px rgba(60, 64, 67, 0.3), 0px 1px 3px 1px rgba(60, 64, 67, 0.15);\n",
              "      fill: #174EA6;\n",
              "    }\n",
              "\n",
              "    [theme=dark] .colab-df-convert {\n",
              "      background-color: #3B4455;\n",
              "      fill: #D2E3FC;\n",
              "    }\n",
              "\n",
              "    [theme=dark] .colab-df-convert:hover {\n",
              "      background-color: #434B5C;\n",
              "      box-shadow: 0px 1px 3px 1px rgba(0, 0, 0, 0.15);\n",
              "      filter: drop-shadow(0px 1px 2px rgba(0, 0, 0, 0.3));\n",
              "      fill: #FFFFFF;\n",
              "    }\n",
              "  </style>\n",
              "\n",
              "      <script>\n",
              "        const buttonEl =\n",
              "          document.querySelector('#df-eba2d510-e9b0-40b1-8a7e-bebd84ded076 button.colab-df-convert');\n",
              "        buttonEl.style.display =\n",
              "          google.colab.kernel.accessAllowed ? 'block' : 'none';\n",
              "\n",
              "        async function convertToInteractive(key) {\n",
              "          const element = document.querySelector('#df-eba2d510-e9b0-40b1-8a7e-bebd84ded076');\n",
              "          const dataTable =\n",
              "            await google.colab.kernel.invokeFunction('convertToInteractive',\n",
              "                                                     [key], {});\n",
              "          if (!dataTable) return;\n",
              "\n",
              "          const docLinkHtml = 'Like what you see? Visit the ' +\n",
              "            '<a target=\"_blank\" href=https://colab.research.google.com/notebooks/data_table.ipynb>data table notebook</a>'\n",
              "            + ' to learn more about interactive tables.';\n",
              "          element.innerHTML = '';\n",
              "          dataTable['output_type'] = 'display_data';\n",
              "          await google.colab.output.renderOutput(dataTable, element);\n",
              "          const docLink = document.createElement('div');\n",
              "          docLink.innerHTML = docLinkHtml;\n",
              "          element.appendChild(docLink);\n",
              "        }\n",
              "      </script>\n",
              "    </div>\n",
              "  </div>\n",
              "  "
            ]
          },
          "metadata": {},
          "execution_count": 29
        }
      ]
    },
    {
      "cell_type": "code",
      "source": [
        "# Remove the rows where actual text is empty (corresponding to audio with No Speech contect in it)\n",
        "\n",
        "idx_2_remove = (dataNoFall[dataNoFall['Actual_Text_clean']==''].index.values)\n",
        "print(idx_2_remove)"
      ],
      "metadata": {
        "colab": {
          "base_uri": "https://localhost:8080/"
        },
        "id": "fDNZttVSZ9cZ",
        "outputId": "aec90273-bc54-4a15-866e-32bf8fafbfdb"
      },
      "execution_count": null,
      "outputs": [
        {
          "output_type": "stream",
          "name": "stdout",
          "text": [
            "[0 1 2]\n"
          ]
        }
      ]
    },
    {
      "cell_type": "code",
      "source": [
        "dataNoFall.drop(idx_2_remove, axis=0, inplace=True)"
      ],
      "metadata": {
        "id": "52j3c-78aAgH"
      },
      "execution_count": null,
      "outputs": []
    },
    {
      "cell_type": "code",
      "source": [
        "# Calculate the WER\n",
        "\n",
        "wer = jiwer.wer(list(dataNoFall[\"Actual_Text_clean\"]), list(dataNoFall[\"whisper_prediction_clean\"]))\n",
        "print(f\"WER: {wer * 100:.2f} %\")"
      ],
      "metadata": {
        "colab": {
          "base_uri": "https://localhost:8080/"
        },
        "id": "4GrC6bpCaCX3",
        "outputId": "b12fee6e-8abd-446b-9483-e2f3a3238024"
      },
      "execution_count": null,
      "outputs": [
        {
          "output_type": "stream",
          "name": "stdout",
          "text": [
            "WER: 24.00 %\n"
          ]
        }
      ]
    },
    {
      "cell_type": "markdown",
      "source": [
        "# **2 and 3. Evaluate the Whisper model for Non-English language detection and transcription**"
      ],
      "metadata": {
        "id": "zSdwh0GAeEuv"
      }
    },
    {
      "cell_type": "markdown",
      "source": [
        "\n",
        "*   Punjabi\n",
        "*   Hindi\n"
      ],
      "metadata": {
        "id": "fA6ZPdau6hAK"
      }
    },
    {
      "cell_type": "code",
      "source": [
        "# Code to convert .wav to .mp3\n",
        "audioPathPunjabi = '/content/drive/My Drive/Whisper_Test/punjabi.wav'\n",
        "sound = pydub.AudioSegment.from_wav(audioPathPunjabi)\n",
        "sound.export(\"/content/drive/My Drive/Whisper_Test/punjabi.mp3\", format=\"mp3\")"
      ],
      "metadata": {
        "colab": {
          "base_uri": "https://localhost:8080/"
        },
        "id": "M5XFHn86td5l",
        "outputId": "872e8fb3-c985-4436-a8a3-6ebbb592f01f"
      },
      "execution_count": null,
      "outputs": [
        {
          "output_type": "execute_result",
          "data": {
            "text/plain": [
              "<_io.BufferedRandom name='/content/drive/My Drive/Whisper_Test/punjabi.mp3'>"
            ]
          },
          "metadata": {},
          "execution_count": 9
        }
      ]
    },
    {
      "cell_type": "code",
      "source": [
        "audioPunjabi = whisper.load_audio(\"/content/drive/My Drive/Whisper_Test/punjabi.mp3\")\n",
        "audioPunjabiSlow = whisper.load_audio(\"/content/drive/My Drive/Whisper_Test/punjabiSlow.mp3\")\n",
        "audioPunjabiNormal = whisper.load_audio(\"/content/drive/My Drive/Whisper_Test/punjabiNormal.mp3\")\n",
        "\n",
        "audioHindi = whisper.load_audio(\"/content/drive/My Drive/Whisper_Test/hindi.mp3\")"
      ],
      "metadata": {
        "id": "gzP4hryqrUyS"
      },
      "execution_count": 9,
      "outputs": []
    },
    {
      "cell_type": "code",
      "source": [
        "audioPunjabi = whisper.pad_or_trim(audioPunjabi)  # This is necessary. Otherwise, it throws an error, 'incorrect audio shape'\n",
        "audioPunjabiSlow = whisper.pad_or_trim(audioPunjabiSlow)\n",
        "audioPunjabiNormal = whisper.pad_or_trim(audioPunjabiNormal)\n",
        "\n",
        "audioHindi = whisper.pad_or_trim(audioHindi) \n"
      ],
      "metadata": {
        "id": "9HAjCg7lz6iG"
      },
      "execution_count": 10,
      "outputs": []
    },
    {
      "cell_type": "code",
      "source": [
        "# make log-Mel spectrogram and move to the same device as the model\n",
        "mel = whisper.log_mel_spectrogram(audioPunjabi).to(model_large.device)\n",
        "\n",
        "# detect the spoken language\n",
        "_, probs = model_large.detect_language(mel)\n",
        "print(f\"Detected language: {max(probs, key=probs.get)}\")\n",
        "\n",
        "# decode the audio\n",
        "options = whisper.DecodingOptions()\n",
        "result = whisper.decode(model_large, mel, options)\n",
        "\n",
        "# print the recognized text\n",
        "print(result.text)"
      ],
      "metadata": {
        "colab": {
          "base_uri": "https://localhost:8080/"
        },
        "id": "NjG8hDv4ehca",
        "outputId": "4c542f66-b201-427e-d9e1-ba7170feda02"
      },
      "execution_count": null,
      "outputs": [
        {
          "output_type": "stream",
          "name": "stdout",
          "text": [
            "Detected language: pa\n",
            "ਸਸਸ ਸਸ ਸਸ ਸਸ ਸਸ ਸਸ ਸਸ ਸਸ ਸਸ ਸਸ ਸਸ ਸਸ ਸਸ ਸਸ ਸਸ ਸਸ ਸਸ ਸਸ ਸਸ ਸਸ ਸਸ ਸਸ ਸਸ ਸਸ ਸਸ ਸਸ ਸਸ ਸਸ ਸਸ ਸਸ ਸਸ ਸਸ ਸਸ ਸਸ ਸਸ ਸਸ ਸਸ ਸਸ ਸਸ ਸਸ ਸਸ ਸਸ ਸਸ ਸਸ\n"
          ]
        }
      ]
    },
    {
      "cell_type": "code",
      "source": [
        "# make log-Mel spectrogram and move to the same device as the model\n",
        "mel = whisper.log_mel_spectrogram(audioHindi).to(model_large.device)\n",
        "\n",
        "# detect the spoken language\n",
        "_, probs = model_large.detect_language(mel)\n",
        "print(f\"Detected language: {max(probs, key=probs.get)}\")\n",
        "\n",
        "# decode the audio\n",
        "options = whisper.DecodingOptions()\n",
        "result = whisper.decode(model_large, mel, options)\n",
        "\n",
        "# print the recognized text\n",
        "print(result.text)"
      ],
      "metadata": {
        "colab": {
          "base_uri": "https://localhost:8080/"
        },
        "id": "_ZrBvcyi0UMG",
        "outputId": "a8e39cd0-7d19-48e8-9a3d-40d6a309f63f"
      },
      "execution_count": null,
      "outputs": [
        {
          "output_type": "stream",
          "name": "stdout",
          "text": [
            "Detected language: hi\n",
            "उमीद है कि आपको ये विडियो पसंद आई।\n"
          ]
        }
      ]
    },
    {
      "cell_type": "code",
      "source": [
        "# make log-Mel spectrogram and move to the same device as the model\n",
        "mel = whisper.log_mel_spectrogram(audioPunjabiSlow).to(model_large.device)\n",
        "\n",
        "# detect the spoken language\n",
        "_, probs = model_large.detect_language(mel)\n",
        "print(f\"Detected language: {max(probs, key=probs.get)}\")\n",
        "\n",
        "# decode the audio\n",
        "options = whisper.DecodingOptions()\n",
        "result = whisper.decode(model_large, mel, options)\n",
        "\n",
        "# print the recognized text\n",
        "print(result.text)"
      ],
      "metadata": {
        "colab": {
          "base_uri": "https://localhost:8080/"
        },
        "id": "Cv5OtF_A3BF9",
        "outputId": "d3fc7535-afc4-450c-a909-09828dc86a7c"
      },
      "execution_count": null,
      "outputs": [
        {
          "output_type": "stream",
          "name": "stdout",
          "text": [
            "Detected language: hi\n",
            "तुसी की में हो।\n"
          ]
        }
      ]
    },
    {
      "cell_type": "code",
      "source": [
        "# make log-Mel spectrogram and move to the same device as the model\n",
        "mel = whisper.log_mel_spectrogram(audioPunjabiNormal).to(model_large.device)\n",
        "\n",
        "# detect the spoken language\n",
        "_, probs = model_large.detect_language(mel)\n",
        "print(f\"Detected language: {max(probs, key=probs.get)}\")\n",
        "\n",
        "# decode the audio\n",
        "options = whisper.DecodingOptions()\n",
        "result = whisper.decode(model_large, mel, options)\n",
        "\n",
        "# print the recognized text\n",
        "print(result.text)"
      ],
      "metadata": {
        "colab": {
          "base_uri": "https://localhost:8080/"
        },
        "id": "7sqNNyek3VXU",
        "outputId": "a02450c7-5903-4e04-acec-b8e8bb2eacb5"
      },
      "execution_count": null,
      "outputs": [
        {
          "output_type": "stream",
          "name": "stdout",
          "text": [
            "Detected language: hi\n",
            "तुसी की मे हो?\n"
          ]
        }
      ]
    },
    {
      "cell_type": "markdown",
      "source": [
        "# **4. Evaluate the Whisper model for Any to English translation**"
      ],
      "metadata": {
        "id": "llX_lvBYdZGe"
      }
    },
    {
      "cell_type": "markdown",
      "source": [
        "\n",
        "\n",
        "*   Punjabi to English\n",
        "*   Hindi to English\n",
        "\n",
        "\n"
      ],
      "metadata": {
        "id": "Cx4UW_-x6UfC"
      }
    },
    {
      "cell_type": "code",
      "source": [
        "options = {\"fp16\": False, \"language\": \"pa\", \"task\": \"translate\"}\n",
        "result = model_large.transcribe(audioPunjabi, **options)\n",
        "print(result)"
      ],
      "metadata": {
        "colab": {
          "base_uri": "https://localhost:8080/"
        },
        "id": "fwHCRdT75cYc",
        "outputId": "42bbd34c-aa5a-4f33-a482-c63d84dfd3f3"
      },
      "execution_count": null,
      "outputs": [
        {
          "output_type": "stream",
          "name": "stdout",
          "text": [
            "{'text': ' I hope you liked this video.', 'segments': [{'id': 0, 'seek': 0, 'start': 0.0, 'end': 4.0, 'text': ' I hope you liked this video.', 'tokens': [50364, 286, 1454, 291, 4501, 341, 960, 13, 50564], 'temperature': 0.0, 'avg_logprob': -0.5375502586364747, 'compression_ratio': 0.7777777777777778, 'no_speech_prob': 0.005461953114718199}], 'language': 'pa'}\n"
          ]
        }
      ]
    },
    {
      "cell_type": "code",
      "source": [
        "options = {\"fp16\": False, \"language\": \"pa\", \"task\": \"translate\"}\n",
        "result = model_large.transcribe(audioPunjabiSlow, **options)\n",
        "print(result)"
      ],
      "metadata": {
        "colab": {
          "base_uri": "https://localhost:8080/"
        },
        "id": "Qa_chqBx53Vk",
        "outputId": "307376d9-a1f9-4507-c68e-0b6115ca3fb5"
      },
      "execution_count": null,
      "outputs": [
        {
          "output_type": "stream",
          "name": "stdout",
          "text": [
            "{'text': ' Tusi kime ho?', 'segments': [{'id': 0, 'seek': 0, 'start': 0.0, 'end': 2.54, 'text': ' Tusi kime ho?', 'tokens': [50364, 314, 33016, 350, 1312, 1106, 30, 50491], 'temperature': 0.0, 'avg_logprob': -0.5609087944030762, 'compression_ratio': 0.6190476190476191, 'no_speech_prob': 0.08426279574632645}], 'language': 'hi'}\n"
          ]
        }
      ]
    },
    {
      "cell_type": "code",
      "source": [
        "options = {\"fp16\": False, \"language\": \"pa\", \"task\": \"translate\"}\n",
        "result = model_large.transcribe(audioPunjabiNormal, **options)\n",
        "print(result)"
      ],
      "metadata": {
        "colab": {
          "base_uri": "https://localhost:8080/"
        },
        "id": "BLUmDa4754OI",
        "outputId": "717133a3-7884-4c47-c6bc-1c9d225456f7"
      },
      "execution_count": null,
      "outputs": [
        {
          "output_type": "stream",
          "name": "stdout",
          "text": [
            "{'text': ' Tusi, kime ho?', 'segments': [{'id': 0, 'seek': 0, 'start': 0.0, 'end': 2.0, 'text': ' Tusi, kime ho?', 'tokens': [50364, 314, 33016, 11, 350, 1312, 1106, 30, 50464], 'temperature': 0.0, 'avg_logprob': -0.5168148040771484, 'compression_ratio': 0.6363636363636364, 'no_speech_prob': 0.09985967725515366}], 'language': 'pa'}\n"
          ]
        }
      ]
    },
    {
      "cell_type": "code",
      "source": [
        "options = {\"fp16\": False, \"language\": \"hi\", \"task\": \"translate\"}\n",
        "result = model_large.transcribe(audioHindi, **options)\n",
        "print(result)"
      ],
      "metadata": {
        "colab": {
          "base_uri": "https://localhost:8080/"
        },
        "id": "8BbDPnxG55O8",
        "outputId": "59cef6e1-c229-4252-bf9c-69b3034494a0"
      },
      "execution_count": null,
      "outputs": [
        {
          "output_type": "stream",
          "name": "stdout",
          "text": [
            "{'text': ' I hope you liked this video.', 'segments': [{'id': 0, 'seek': 0, 'start': 0.0, 'end': 4.0, 'text': ' I hope you liked this video.', 'tokens': [50364, 286, 1454, 291, 4501, 341, 960, 13, 50564], 'temperature': 0.0, 'avg_logprob': -0.6076899528503418, 'compression_ratio': 0.7777777777777778, 'no_speech_prob': 0.06783635914325714}], 'language': 'hi'}\n"
          ]
        }
      ]
    }
  ],
  "metadata": {
    "colab": {
      "machine_shape": "hm",
      "provenance": [],
      "toc_visible": true
    },
    "kernelspec": {
      "display_name": "Python 3",
      "name": "python3"
    },
    "language_info": {
      "name": "python"
    },
    "gpuClass": "standard",
    "accelerator": "GPU"
  },
  "nbformat": 4,
  "nbformat_minor": 0
}